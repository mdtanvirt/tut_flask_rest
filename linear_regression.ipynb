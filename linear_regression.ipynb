import pandas as pd
from pandas import DataFrame as df
import matplotlib.pyplot as plt
from sklearn.linear_model import LinearRegression

#############

data = pd.read_csv('cost_revenue_clean.csv')

############

data.describe()

############

2.600000e+01

###########

X = df(data, columns=['production_budget_usd'])
y = df(data, columns=['worldwide_gross_usd'])

###########

plt.figure(figsize=(10, 6))
plt.title('Film cost vs Gross revenue')
plt.xlabel('Production budget $')
plt.ylabel('worldwide gross $')
plt.scatter(X, y, alpha=0.3)
plt.xlim(0, 450000000)
plt.ylim(0, 3000000000)
plt.show()

##################################

regression = LinearRegression()
regression.fit(X, y)

################################

regression.coef_

##################################

regression.intercept_

##################################

plt.figure(figsize=(10, 6))
plt.title('Film cost vs Gross revenue')
plt.xlabel('Production budget $')
plt.ylabel('worldwide gross $')
plt.scatter(X, y, alpha=0.3)
plt.plot(X, regression.predict(X), color='red', linewidth=4)
plt.xlim(0, 450000000)
plt.ylim(0, 3000000000)
plt.show()

###################################

score = regression.score(X, y)

#################################

score

#####################

finalScore=score*100

########################

finalScore
